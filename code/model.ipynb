{
 "cells": [
  {
   "cell_type": "code",
   "execution_count": 1,
   "metadata": {},
   "outputs": [
    {
     "name": "stderr",
     "output_type": "stream",
     "text": [
      "2024-12-13 14:38:40.449959: E external/local_xla/xla/stream_executor/cuda/cuda_dnn.cc:9261] Unable to register cuDNN factory: Attempting to register factory for plugin cuDNN when one has already been registered\n",
      "2024-12-13 14:38:40.450022: E external/local_xla/xla/stream_executor/cuda/cuda_fft.cc:607] Unable to register cuFFT factory: Attempting to register factory for plugin cuFFT when one has already been registered\n",
      "2024-12-13 14:38:40.457190: E external/local_xla/xla/stream_executor/cuda/cuda_blas.cc:1515] Unable to register cuBLAS factory: Attempting to register factory for plugin cuBLAS when one has already been registered\n",
      "2024-12-13 14:38:40.471539: I tensorflow/core/platform/cpu_feature_guard.cc:182] This TensorFlow binary is optimized to use available CPU instructions in performance-critical operations.\n",
      "To enable the following instructions: AVX2 FMA, in other operations, rebuild TensorFlow with the appropriate compiler flags.\n",
      "2024-12-13 14:38:41.773279: W tensorflow/compiler/tf2tensorrt/utils/py_utils.cc:38] TF-TRT Warning: Could not find TensorRT\n"
     ]
    }
   ],
   "source": [
    "import pandas as pd\n",
    "import lightgbm as lgb\n",
    "from tensorflow.keras.callbacks import EarlyStopping\n",
    "from tensorflow.keras.preprocessing.sequence import pad_sequences\n",
    "from tensorflow.keras.preprocessing.text import Tokenizer\n",
    "from tensorflow.keras.models import Sequential, Model\n",
    "from tensorflow.keras.layers import LSTM, Embedding, Dense\n",
    "from tensorflow.keras.metrics import AUC\n",
    "from sklearn.preprocessing import LabelEncoder\n",
    "from sklearn.metrics import roc_auc_score\n",
    "from sklearn.model_selection import train_test_split\n",
    "from imblearn.over_sampling import SMOTE"
   ]
  },
  {
   "cell_type": "code",
   "execution_count": 2,
   "metadata": {},
   "outputs": [],
   "source": [
    "# Load data\n",
    "\n",
    "user_log_format1 = pd.read_csv('../data/data_format1/user_log_format1.csv', dtype={'time_stamp':'str'})\n",
    "user_info_format1 = pd.read_csv('../data/data_format1/user_info_format1.csv')\n",
    "train_data_format1 = pd.read_csv('../data/data_format1/train_format1.csv')\n",
    "submission_data_format1 = pd.read_csv('../data/data_format1/test_format1.csv')\n",
    "\n",
    "data_train_format2 = pd.read_csv('../data/data_format2/train_format2.csv')\n",
    "data_submission_format2 = pd.read_csv('../data/data_format2/test_format2.csv')"
   ]
  },
  {
   "cell_type": "code",
   "execution_count": 3,
   "metadata": {},
   "outputs": [
    {
     "name": "stdout",
     "output_type": "stream",
     "text": [
      "   user_id  age_range  gender  merchant_id  label  \\\n",
      "0    34176        6.0     0.0          944     -1   \n",
      "1    34176        6.0     0.0          412     -1   \n",
      "2    34176        6.0     0.0         1945     -1   \n",
      "3    34176        6.0     0.0         4752     -1   \n",
      "4    34176        6.0     0.0          643     -1   \n",
      "\n",
      "                                        activity_log  \n",
      "0                            408895:1505:7370:1107:0  \n",
      "1  17235:1604:4396:0818:0#954723:1604:4396:0818:0...  \n",
      "2  231901:662:2758:0818:0#231901:662:2758:0818:0#...  \n",
      "3                             174142:821:6938:1027:0  \n",
      "4                             716371:1505:968:1024:3  \n"
     ]
    }
   ],
   "source": [
    "# print head of data_train_format2\n",
    "print(data_train_format2.head())"
   ]
  },
  {
   "cell_type": "code",
   "execution_count": 4,
   "metadata": {},
   "outputs": [],
   "source": [
    "# Tag origin\n",
    "train_data_format1['origin'] = 'train'\n",
    "submission_data_format1['origin'] = 'test'\n",
    "submission_data_format1.drop(['prob'], axis=1, inplace=True)\n",
    "\n",
    "# Merge data\n",
    "train_test_matrix = \\\n",
    "    pd.concat([train_data_format1, submission_data_format1], ignore_index=True, sort=False)\n",
    "train_test_matrix = train_test_matrix.merge(user_info_format1, on='user_id', how='left')\n",
    "\n",
    "# Give same name to seller_id in user_log_format1 and user_info_format1\n",
    "user_log_format1.rename(columns={'seller_id':'merchant_id'}, inplace=True)"
   ]
  },
  {
   "cell_type": "code",
   "execution_count": 5,
   "metadata": {},
   "outputs": [
    {
     "name": "stdout",
     "output_type": "stream",
     "text": [
      "user_id             0\n",
      "merchant_id         0\n",
      "label          261477\n",
      "origin              0\n",
      "age_range        2578\n",
      "gender           7545\n",
      "dtype: int64\n",
      "\n",
      "\n",
      "user_id            0\n",
      "item_id            0\n",
      "cat_id             0\n",
      "merchant_id        0\n",
      "brand_id       91015\n",
      "time_stamp         0\n",
      "action_type        0\n",
      "dtype: int64\n"
     ]
    }
   ],
   "source": [
    "# Print if the column have null values\n",
    "print(train_test_matrix.isnull().sum()) # Number of label to predict: 261477\n",
    "print('\\n')\n",
    "print(user_log_format1.isnull().sum())"
   ]
  },
  {
   "cell_type": "code",
   "execution_count": 6,
   "metadata": {},
   "outputs": [
    {
     "name": "stdout",
     "output_type": "stream",
     "text": [
      "user_id: 1 - 424170\n",
      "merchant_id: 2 - 4993\n",
      "label: 0.0 - 1.0\n",
      "origin: test - train\n",
      "age_range: 0.0 - 8.0\n",
      "gender: 0.0 - 2.0\n",
      "\n",
      "\n",
      "user_id: 1 - 424170\n",
      "item_id: 1 - 1113166\n",
      "cat_id: 1 - 1671\n",
      "merchant_id: 1 - 4995\n",
      "brand_id: 1.0 - 8477.0\n",
      "time_stamp: 0511 - 1112\n",
      "action_type: 0 - 3\n"
     ]
    }
   ],
   "source": [
    "# Print range of all columns\n",
    "for col in train_test_matrix.columns:\n",
    "    print(f'{col}: {train_test_matrix[col].min()} - {train_test_matrix[col].max()}')\n",
    "print('\\n')\n",
    "\n",
    "for col in user_log_format1.columns:\n",
    "    print(f'{col}: {user_log_format1[col].min()} - {user_log_format1[col].max()}')"
   ]
  },
  {
   "cell_type": "code",
   "execution_count": 7,
   "metadata": {},
   "outputs": [
    {
     "name": "stderr",
     "output_type": "stream",
     "text": [
      "/tmp/ipykernel_71542/773277412.py:27: FutureWarning: A value is trying to be set on a copy of a DataFrame or Series through chained assignment using an inplace method.\n",
      "The behavior will change in pandas 3.0. This inplace method will never work because the intermediate object on which we are setting values always behaves as a copy.\n",
      "\n",
      "For example, when doing 'df[col].method(value, inplace=True)', try using 'df.method({col: value}, inplace=True)' or df[col] = df[col].method(value) instead, to perform the operation inplace on the original object.\n",
      "\n",
      "\n",
      "  user_log_format1['brand_id'].fillna(0, inplace=True)\n"
     ]
    }
   ],
   "source": [
    "# Rename gender column. 0 for female, 1 for male, 2 or NULL for unknown\n",
    "train_test_matrix['gender'] = train_test_matrix['gender'].map({\n",
    "    0: 'female',\n",
    "    1: 'male',\n",
    "    2: 'unknown'\n",
    "}).fillna('unknown')\n",
    "# Rename age_range column. NULL for unknown\n",
    "train_test_matrix['age_range'] = train_test_matrix['age_range'].map({\n",
    "    1: 'first group',\n",
    "    2: 'second group',\n",
    "    3: 'third group',\n",
    "    4: 'fourth group',\n",
    "    5: 'fifth group',\n",
    "    6: 'sixth group',\n",
    "    7: 'seventh group',\n",
    "    8: 'eighth group'\n",
    "}).fillna('unknown')\n",
    "\n",
    "# Rename action_type column. 0 for click, 1 for add-to-cart, 2 for purchase, 3 for add-to-favorite\n",
    "user_log_format1['action_type'] = user_log_format1['action_type'].map({\n",
    "    0: 'click',\n",
    "    1: 'add-to-cart',\n",
    "    2: 'purchase',\n",
    "    3: 'add-to-favorite'\n",
    "})\n",
    "# Fill in the missing values of brand_id with 0\n",
    "user_log_format1['brand_id'].fillna(0, inplace=True)"
   ]
  },
  {
   "cell_type": "code",
   "execution_count": 8,
   "metadata": {},
   "outputs": [
    {
     "name": "stdout",
     "output_type": "stream",
     "text": [
      "user_id             0\n",
      "merchant_id         0\n",
      "label          261477\n",
      "origin              0\n",
      "age_range           0\n",
      "gender              0\n",
      "dtype: int64\n",
      "\n",
      "\n",
      "user_id        0\n",
      "item_id        0\n",
      "cat_id         0\n",
      "merchant_id    0\n",
      "brand_id       0\n",
      "time_stamp     0\n",
      "action_type    0\n",
      "dtype: int64\n"
     ]
    }
   ],
   "source": [
    "# Print if the column have null values\n",
    "print(train_test_matrix.isnull().sum()) # Number of label to predict: 261477\n",
    "print('\\n')\n",
    "print(user_log_format1.isnull().sum())"
   ]
  },
  {
   "cell_type": "code",
   "execution_count": 9,
   "metadata": {},
   "outputs": [
    {
     "name": "stdout",
     "output_type": "stream",
     "text": [
      "user_id: 1 - 424170\n",
      "merchant_id: 2 - 4993\n",
      "label: 0.0 - 1.0\n",
      "origin: test - train\n",
      "age_range: eighth group - unknown\n",
      "gender: female - unknown\n",
      "\n",
      "\n",
      "user_id: 1 - 424170\n",
      "item_id: 1 - 1113166\n",
      "cat_id: 1 - 1671\n",
      "merchant_id: 1 - 4995\n",
      "brand_id: 0.0 - 8477.0\n",
      "time_stamp: 0511 - 1112\n",
      "action_type: add-to-cart - purchase\n"
     ]
    }
   ],
   "source": [
    "# Print range of all columns\n",
    "for col in train_test_matrix.columns:\n",
    "    print(f'{col}: {train_test_matrix[col].min()} - {train_test_matrix[col].max()}')\n",
    "print('\\n')\n",
    "\n",
    "for col in user_log_format1.columns:\n",
    "    print(f'{col}: {user_log_format1[col].min()} - {user_log_format1[col].max()}')"
   ]
  },
  {
   "cell_type": "code",
   "execution_count": 10,
   "metadata": {},
   "outputs": [],
   "source": [
    "# Convert data types\n",
    "train_test_matrix['user_id'] = train_test_matrix['user_id'].astype('uint32')\n",
    "train_test_matrix['merchant_id'] = train_test_matrix['merchant_id'].astype('uint16')\n",
    "train_test_matrix['label'] = train_test_matrix['label'].astype('float64')\n",
    "train_test_matrix['origin'] = train_test_matrix['origin'].astype('category')\n",
    "train_test_matrix['age_range'] = train_test_matrix['age_range'].astype('category')\n",
    "train_test_matrix['gender'] = train_test_matrix['gender'].astype('category')\n",
    "\n",
    "user_log_format1['user_id'] = user_log_format1['user_id'].astype('uint32')\n",
    "user_log_format1['item_id'] = user_log_format1['item_id'].astype('uint32')\n",
    "user_log_format1['cat_id'] = user_log_format1['cat_id'].astype('uint16')\n",
    "user_log_format1['merchant_id'] = user_log_format1['merchant_id'].astype('uint16')\n",
    "user_log_format1['brand_id'] = user_log_format1['brand_id'].astype('int16')\n",
    "user_log_format1['time_stamp'] = pd.to_datetime('2016' + user_log_format1['time_stamp'], format='%Y%m%d')\n",
    "user_log_format1['action_type'] = user_log_format1['action_type'].astype('category')"
   ]
  },
  {
   "cell_type": "code",
   "execution_count": 11,
   "metadata": {},
   "outputs": [
    {
     "name": "stdout",
     "output_type": "stream",
     "text": [
      "user_id: 1 - 424170\n",
      "merchant_id: 2 - 4993\n",
      "label: 0.0 - 1.0\n",
      "origin: Cannot compute range on unordered categorical data\n",
      "age_range: Cannot compute range on unordered categorical data\n",
      "gender: Cannot compute range on unordered categorical data\n",
      "\n",
      "\n",
      "user_id: 1 - 424170\n",
      "item_id: 1 - 1113166\n",
      "cat_id: 1 - 1671\n",
      "merchant_id: 1 - 4995\n",
      "brand_id: 0 - 8477\n",
      "time_stamp: Non-numeric or unsupported type\n",
      "action_type: Cannot compute range on unordered categorical data\n"
     ]
    }
   ],
   "source": [
    "# Print range of all columns after conversion\n",
    "for col in train_test_matrix.columns:\n",
    "    if train_test_matrix[col].dtype.name == 'category' and not train_test_matrix[col].cat.ordered:\n",
    "        print(f'{col}: Cannot compute range on unordered categorical data')\n",
    "    elif train_test_matrix[col].dtype.kind in 'biufc':  # Numeric columns\n",
    "        print(f'{col}: {train_test_matrix[col].min()} - {train_test_matrix[col].max()}')\n",
    "    else:\n",
    "        print(f'{col}: Non-numeric or unsupported type')\n",
    "print('\\n')\n",
    "\n",
    "for col in user_log_format1.columns:\n",
    "    if user_log_format1[col].dtype.name == 'category' and not user_log_format1[col].cat.ordered:\n",
    "        print(f'{col}: Cannot compute range on unordered categorical data')\n",
    "    elif user_log_format1[col].dtype.kind in 'biufc':  # Numeric columns\n",
    "        print(f'{col}: {user_log_format1[col].min()} - {user_log_format1[col].max()}')\n",
    "    else:\n",
    "        print(f'{col}: Non-numeric or unsupported type')"
   ]
  },
  {
   "cell_type": "code",
   "execution_count": 12,
   "metadata": {},
   "outputs": [
    {
     "name": "stdout",
     "output_type": "stream",
     "text": [
      "   user_id  merchant_id  label origin    age_range  gender\n",
      "0    34176         3906    0.0  train  sixth group  female\n",
      "1    34176          121    0.0  train  sixth group  female\n",
      "2    34176         4356    1.0  train  sixth group  female\n",
      "3    34176         2217    0.0  train  sixth group  female\n",
      "4   230784         4818    0.0  train      unknown  female\n"
     ]
    }
   ],
   "source": [
    "# Print head of train_test_matrix\n",
    "print(train_test_matrix.head())"
   ]
  },
  {
   "cell_type": "code",
   "execution_count": 13,
   "metadata": {},
   "outputs": [],
   "source": [
    "user_grouped_by_user_id = user_log_format1.groupby('user_id')\n",
    "\n",
    "train_test_matrix = train_test_matrix.merge(\n",
    "    user_grouped_by_user_id['item_id'].nunique().reset_index().rename(columns={'item_id': 'u_iid'}),\n",
    "    on='user_id', how='left'\n",
    ")\n",
    "train_test_matrix = train_test_matrix.merge(\n",
    "    user_grouped_by_user_id['cat_id'].nunique().reset_index().rename(columns={'cat_id': 'u_cid'}),\n",
    "    on='user_id', how='left'\n",
    ")\n",
    "train_test_matrix = train_test_matrix.merge(\n",
    "    user_grouped_by_user_id['merchant_id'].nunique().reset_index().rename(columns={'merchant_id': 'u_mid'}),\n",
    "    on='user_id', how='left'\n",
    ")\n",
    "train_test_matrix = train_test_matrix.merge(\n",
    "    user_grouped_by_user_id['brand_id'].nunique().reset_index().rename(columns={'brand_id': 'u_bid'}),\n",
    "    on='user_id', how='left'\n",
    ")\n",
    "train_test_matrix = train_test_matrix.merge(\n",
    "    user_grouped_by_user_id['action_type'].value_counts().unstack().reset_index().rename(\n",
    "        columns={'click': 'u_click', 'add-to-cart': 'u_cart', 'purchase': 'u_purchase', 'add-to-favorite': 'u_fav'}),\n",
    "    on='user_id', how='left'\n",
    ")\n",
    "# Number of days between the first and the last action\n",
    "user_time = user_grouped_by_user_id['time_stamp'].agg(['min', 'max']).reset_index()\n",
    "user_time['u_days_between'] = (user_time['max'] - user_time['min']).dt.days\n",
    "train_test_matrix = train_test_matrix.merge(\n",
    "    user_time[['user_id', 'u_days_between']], \n",
    "    on='user_id', \n",
    "    how='left'\n",
    ")\n",
    "\n",
    "del user_grouped_by_user_id, user_time"
   ]
  },
  {
   "cell_type": "code",
   "execution_count": 15,
   "metadata": {},
   "outputs": [
    {
     "name": "stdout",
     "output_type": "stream",
     "text": [
      "   user_id  merchant_id  label origin    age_range  gender  u_iid  u_cid  \\\n",
      "0    34176         3906    0.0  train  sixth group  female    256     45   \n",
      "1    34176          121    0.0  train  sixth group  female    256     45   \n",
      "2    34176         4356    1.0  train  sixth group  female    256     45   \n",
      "3    34176         2217    0.0  train  sixth group  female    256     45   \n",
      "4   230784         4818    0.0  train      unknown  female     31     17   \n",
      "\n",
      "   u_mid  u_bid  u_cart  u_fav  u_click  u_purchase  u_days_between  \n",
      "0    109    108       0      7      410          34             174  \n",
      "1    109    108       0      7      410          34             174  \n",
      "2    109    108       0      7      410          34             174  \n",
      "3    109    108       0      7      410          34             174  \n",
      "4     20     19       0      0       47           7             163  \n"
     ]
    }
   ],
   "source": [
    "# Print head of train_test_matrix\n",
    "print(train_test_matrix.head())"
   ]
  },
  {
   "cell_type": "code",
   "execution_count": 16,
   "metadata": {},
   "outputs": [],
   "source": [
    "user_grouped_by_merchant_id = user_log_format1.groupby('merchant_id')\n",
    "\n",
    "train_test_matrix = train_test_matrix.merge(\n",
    "    user_grouped_by_merchant_id['user_id'].nunique().reset_index().rename(columns={'user_id': 'm_uid'}),\n",
    "    on='merchant_id', how='left'\n",
    ")\n",
    "train_test_matrix = train_test_matrix.merge(\n",
    "    user_grouped_by_merchant_id['item_id'].nunique().reset_index().rename(columns={'item_id': 'm_iid'}),\n",
    "    on='merchant_id', how='left'\n",
    ")\n",
    "train_test_matrix = train_test_matrix.merge(\n",
    "    user_grouped_by_merchant_id['cat_id'].nunique().reset_index().rename(columns={'cat_id': 'm_cid'}),\n",
    "    on='merchant_id', how='left'\n",
    ")\n",
    "train_test_matrix = train_test_matrix.merge(\n",
    "    user_grouped_by_merchant_id['brand_id'].nunique().reset_index().rename(columns={'brand_id': 'm_bid'}),\n",
    "    on='merchant_id', how='left'\n",
    ")\n",
    "train_test_matrix = train_test_matrix.merge(\n",
    "    user_grouped_by_merchant_id['action_type'].value_counts().unstack().reset_index().rename(\n",
    "        columns={'click': 'm_click', 'add-to-cart': 'm_cart', 'purchase': 'm_purchase', 'add-to-favorite': 'm_fav'}),\n",
    "    on='merchant_id', how='left'\n",
    ")\n",
    "# Number of days between the first and the last action\n",
    "merchant_time = user_grouped_by_merchant_id['time_stamp'].agg(['min', 'max']).reset_index()\n",
    "merchant_time['m_days_between'] = (merchant_time['max'] - merchant_time['min']).dt.days\n",
    "train_test_matrix = train_test_matrix.merge(\n",
    "    merchant_time[['merchant_id', 'm_days_between']], \n",
    "    on='merchant_id', \n",
    "    how='left'\n",
    ")\n",
    "\n",
    "del user_grouped_by_merchant_id, merchant_time"
   ]
  },
  {
   "cell_type": "code",
   "execution_count": 17,
   "metadata": {},
   "outputs": [
    {
     "name": "stdout",
     "output_type": "stream",
     "text": [
      "   user_id  merchant_id  label origin    age_range  gender  u_iid  u_cid  \\\n",
      "0    34176         3906    0.0  train  sixth group  female    256     45   \n",
      "1    34176          121    0.0  train  sixth group  female    256     45   \n",
      "2    34176         4356    1.0  train  sixth group  female    256     45   \n",
      "3    34176         2217    0.0  train  sixth group  female    256     45   \n",
      "4   230784         4818    0.0  train      unknown  female     31     17   \n",
      "\n",
      "   u_mid  u_bid  ...  u_days_between  m_uid  m_iid  m_cid  m_bid  m_cart  \\\n",
      "0    109    108  ...             174   5819    308     20      2      28   \n",
      "1    109    108  ...             174  10931   1179     26      2     121   \n",
      "2    109    108  ...             174   2281     67     15      2      16   \n",
      "3    109    108  ...             174  16870    377      5      2     101   \n",
      "4     20     19  ...             163   7500    461     27      2     129   \n",
      "\n",
      "   m_fav  m_click  m_purchase  m_days_between  \n",
      "0    961    14870         410             184  \n",
      "1   2699    72265        4780             184  \n",
      "2    196     6094         963             174  \n",
      "3   4150    52230        3721             184  \n",
      "4   1959    43268        2733             184  \n",
      "\n",
      "[5 rows x 24 columns]\n"
     ]
    }
   ],
   "source": [
    "# Print head of train_test_matrix\n",
    "print(train_test_matrix.head())"
   ]
  },
  {
   "cell_type": "code",
   "execution_count": 18,
   "metadata": {},
   "outputs": [],
   "source": [
    "user_merchant_group = user_log_format1.groupby(['user_id', 'merchant_id'])\n",
    "\n",
    "train_test_matrix = train_test_matrix.merge(\n",
    "    user_merchant_group.size().reset_index().rename(columns={0: 'um_action_count'}),\n",
    "    on=['user_id', 'merchant_id'], how='left'\n",
    ")\n",
    "train_test_matrix = train_test_matrix.merge(\n",
    "    user_merchant_group[['item_id', 'cat_id', 'brand_id']].nunique().reset_index().rename(\n",
    "        columns={'item_id': 'um_iid', 'cat_id': 'um_cid', 'brand_id': 'um_bid'},\n",
    "    ),\n",
    "    on=['user_id', 'merchant_id'], how='left'\n",
    ")\n",
    "um_time = user_merchant_group['time_stamp'].agg(['min', 'max']).reset_index()\n",
    "um_time['um_days_between'] = (um_time['max'] - um_time['min']).dt.days\n",
    "train_test_matrix = train_test_matrix.merge(\n",
    "    um_time[['user_id', 'merchant_id', 'um_days_between']],\n",
    "    on=['user_id', 'merchant_id'], how='left'\n",
    ")\n",
    "\n",
    "del user_merchant_group, um_time"
   ]
  },
  {
   "cell_type": "code",
   "execution_count": 19,
   "metadata": {},
   "outputs": [],
   "source": [
    "# User buy click ratio\n",
    "train_test_matrix['u_bcr'] = \\\n",
    "    train_test_matrix['u_purchase'] / train_test_matrix['u_click']\n",
    "# Merchant buy click ratio\n",
    "train_test_matrix['m_bcr'] = \\\n",
    "    train_test_matrix['m_purchase'] / train_test_matrix['m_click']"
   ]
  },
  {
   "cell_type": "code",
   "execution_count": 27,
   "metadata": {},
   "outputs": [],
   "source": [
    "# Merge data_train_format2 and data_submission_format2\n",
    "data_format2 = pd.concat([data_train_format2, data_submission_format2], ignore_index=True, sort=False)"
   ]
  },
  {
   "cell_type": "code",
   "execution_count": 28,
   "metadata": {},
   "outputs": [],
   "source": [
    "# decode the action_type\n",
    "def parse_activity_log(log):\n",
    "    log = str(log)\n",
    "    actions = log.split('#')\n",
    "    seq = []\n",
    "    for action in actions:\n",
    "        item = action.split(':')\n",
    "        if len(item) == 5:\n",
    "            item_id, cat_id, brand_id, time_stamp, action_type = item\n",
    "            seq.append({\n",
    "                'item_id': int(item_id),\n",
    "                'cat_id': int(cat_id),\n",
    "                'brand_id': int(brand_id),\n",
    "                'time_stamp': int(time_stamp),\n",
    "                'action_type': int(action_type)\n",
    "            })\n",
    "\n",
    "    return seq\n",
    "\n",
    "def count_actions(log):\n",
    "    return len(log)\n",
    "\n",
    "data_format2['parsed_log'] = data_format2['activity_log'].apply(parse_activity_log)\n",
    "data_format2['action_count'] = data_format2['parsed_log'].apply(count_actions)\n",
    "\n",
    "# Add number of actions to train_test_matrix on user_id\n",
    "data_format2_grouped_by_user_id = data_format2.groupby('user_id')\n",
    "\n",
    "train_test_matrix = train_test_matrix.merge(\n",
    "    data_format2_grouped_by_user_id['action_count'].agg(['min', 'max', 'mean', 'std']).reset_index().rename(\n",
    "        columns={'min': 'u_ac_min', 'max': 'u_ac_max', 'mean': 'u_ac_mean', 'std': 'u_ac_std'}\n",
    "    ),\n",
    "    on='user_id', how='left'\n",
    ")\n",
    "\n",
    "del data_format2_grouped_by_user_id\n",
    "\n",
    "# Add number of actions to train_test_matrix on merchant_id\n",
    "data_format2_grouped_by_merchant_id = data_format2.groupby('merchant_id')\n",
    "\n",
    "train_test_matrix = train_test_matrix.merge(\n",
    "    data_format2_grouped_by_merchant_id['action_count'].agg(['min', 'max', 'mean', 'std']).reset_index().rename(\n",
    "        columns={'min': 'm_ac_min', 'max': 'm_ac_max', 'mean': 'm_ac_mean', 'std': 'm_ac_std'}\n",
    "    ),\n",
    "    on='merchant_id', how='left'\n",
    ")\n",
    "\n",
    "del data_format2_grouped_by_merchant_id\n",
    "\n",
    "# Add number of actions to train_test_matrix on user meerchant pair\n",
    "user_merchant_group_format2 = data_format2.groupby(['user_id', 'merchant_id'])\n",
    "\n",
    "train_test_matrix = train_test_matrix.merge(\n",
    "    user_merchant_group_format2['action_count'].agg(['min', 'max', 'mean', 'std']).reset_index().rename(\n",
    "        columns={'min': 'um_ac_min', 'max': 'um_ac_max', 'mean': 'um_ac_mean', 'std': 'um_ac_std'}\n",
    "    ),\n",
    "    on=['user_id', 'merchant_id'],\n",
    "    how='left'\n",
    ")\n",
    "\n",
    "del user_merchant_group_format2"
   ]
  },
  {
   "cell_type": "code",
   "execution_count": 29,
   "metadata": {},
   "outputs": [
    {
     "name": "stdout",
     "output_type": "stream",
     "text": [
      "   user_id  merchant_id  label origin    age_range  gender  u_iid  u_cid  \\\n",
      "0    34176         3906    0.0  train  sixth group  female    256     45   \n",
      "1    34176          121    0.0  train  sixth group  female    256     45   \n",
      "2    34176         4356    1.0  train  sixth group  female    256     45   \n",
      "3    34176         2217    0.0  train  sixth group  female    256     45   \n",
      "4   230784         4818    0.0  train      unknown  female     31     17   \n",
      "\n",
      "   u_mid  u_bid  ...  u_ac_mean  u_ac_std  m_ac_min  m_ac_max  m_ac_mean  \\\n",
      "0    109    108  ...   4.137615  8.318284         0       300   2.791201   \n",
      "1    109    108  ...   4.137615  8.318284         0       311   7.295215   \n",
      "2    109    108  ...   4.137615  8.318284         0       146   3.179746   \n",
      "3    109    108  ...   4.137615  8.318284         0       694   3.562596   \n",
      "4     20     19  ...   2.700000  2.364207         0       266   6.394800   \n",
      "\n",
      "    m_ac_std  um_ac_min  um_ac_max  um_ac_mean  um_ac_std  \n",
      "0   7.001489         39         39        39.0        NaN  \n",
      "1  15.003947         14         14        14.0        NaN  \n",
      "2   5.301949         18         18        18.0        NaN  \n",
      "3   8.635880          2          2         2.0        NaN  \n",
      "4  14.428694          8          8         8.0        NaN  \n",
      "\n",
      "[5 rows x 55 columns]\n"
     ]
    }
   ],
   "source": [
    "# Print head of train_test_matrix\n",
    "print(train_test_matrix.head())"
   ]
  },
  {
   "cell_type": "code",
   "execution_count": 30,
   "metadata": {},
   "outputs": [],
   "source": [
    "train_data = train_test_matrix[train_test_matrix['origin'] == 'train'].drop(['origin'], axis=1)\n",
    "test_data = train_test_matrix[train_test_matrix['origin'] == 'test'].drop(['label', 'origin'], axis=1)\n",
    "train_X, train_y = train_data.drop(['label'], axis=1), train_data['label']"
   ]
  },
  {
   "cell_type": "code",
   "execution_count": 31,
   "metadata": {},
   "outputs": [
    {
     "name": "stdout",
     "output_type": "stream",
     "text": [
      "user_id              uint32\n",
      "merchant_id          uint16\n",
      "age_range          category\n",
      "gender             category\n",
      "u_iid                 int64\n",
      "u_cid                 int64\n",
      "u_mid                 int64\n",
      "u_bid                 int64\n",
      "u_cart                int64\n",
      "u_fav                 int64\n",
      "u_click               int64\n",
      "u_purchase            int64\n",
      "u_days_between        int64\n",
      "m_uid                 int64\n",
      "m_iid                 int64\n",
      "m_cid                 int64\n",
      "m_bid                 int64\n",
      "m_cart                int64\n",
      "m_fav                 int64\n",
      "m_click               int64\n",
      "m_purchase            int64\n",
      "m_days_between        int64\n",
      "um_action_count       int64\n",
      "um_iid                int64\n",
      "um_cid                int64\n",
      "um_bid                int64\n",
      "um_days_between       int64\n",
      "u_bcr               float64\n",
      "m_bcr               float64\n",
      "ac_min_x              int64\n",
      "ac_max_x              int64\n",
      "ac_mean_x           float64\n",
      "ac_std_x            float64\n",
      "ac_min_y              int64\n",
      "ac_max_y              int64\n",
      "ac_mean_y           float64\n",
      "ac_std_y            float64\n",
      "ac_min                int64\n",
      "ac_max                int64\n",
      "ac_mean             float64\n",
      "ac_std              float64\n",
      "u_ac_min              int64\n",
      "u_ac_max              int64\n",
      "u_ac_mean           float64\n",
      "u_ac_std            float64\n",
      "m_ac_min              int64\n",
      "m_ac_max              int64\n",
      "m_ac_mean           float64\n",
      "m_ac_std            float64\n",
      "um_ac_min             int64\n",
      "um_ac_max             int64\n",
      "um_ac_mean          float64\n",
      "um_ac_std           float64\n",
      "dtype: object\n"
     ]
    }
   ],
   "source": [
    "print(train_X.dtypes)"
   ]
  },
  {
   "cell_type": "code",
   "execution_count": 32,
   "metadata": {},
   "outputs": [
    {
     "name": "stdout",
     "output_type": "stream",
     "text": [
      "user_id              uint32\n",
      "merchant_id          uint16\n",
      "age_range          category\n",
      "gender             category\n",
      "u_iid                 int64\n",
      "u_cid                 int64\n",
      "u_mid                 int64\n",
      "u_bid                 int64\n",
      "u_cart                int64\n",
      "u_fav                 int64\n",
      "u_click               int64\n",
      "u_purchase            int64\n",
      "u_days_between        int64\n",
      "m_uid                 int64\n",
      "m_iid                 int64\n",
      "m_cid                 int64\n",
      "m_bid                 int64\n",
      "m_cart                int64\n",
      "m_fav                 int64\n",
      "m_click               int64\n",
      "m_purchase            int64\n",
      "m_days_between        int64\n",
      "um_action_count       int64\n",
      "um_iid                int64\n",
      "um_cid                int64\n",
      "um_bid                int64\n",
      "um_days_between       int64\n",
      "u_bcr               float64\n",
      "m_bcr               float64\n",
      "ac_min_x              int64\n",
      "ac_max_x              int64\n",
      "ac_mean_x           float64\n",
      "ac_std_x            float64\n",
      "ac_min_y              int64\n",
      "ac_max_y              int64\n",
      "ac_mean_y           float64\n",
      "ac_std_y            float64\n",
      "ac_min                int64\n",
      "ac_max                int64\n",
      "ac_mean             float64\n",
      "ac_std              float64\n",
      "u_ac_min              int64\n",
      "u_ac_max              int64\n",
      "u_ac_mean           float64\n",
      "u_ac_std            float64\n",
      "m_ac_min              int64\n",
      "m_ac_max              int64\n",
      "m_ac_mean           float64\n",
      "m_ac_std            float64\n",
      "um_ac_min             int64\n",
      "um_ac_max             int64\n",
      "um_ac_mean          float64\n",
      "um_ac_std           float64\n",
      "dtype: object\n"
     ]
    }
   ],
   "source": [
    "print(test_data.dtypes)"
   ]
  },
  {
   "cell_type": "code",
   "execution_count": 33,
   "metadata": {},
   "outputs": [],
   "source": [
    "X_train, X_valid, y_train, y_valid = train_test_split(train_X, train_y, test_size=0.2, random_state=42)"
   ]
  },
  {
   "cell_type": "code",
   "execution_count": 34,
   "metadata": {},
   "outputs": [
    {
     "name": "stdout",
     "output_type": "stream",
     "text": [
      "[LightGBM] [Info] Number of positive: 12805, number of negative: 195886\n",
      "[LightGBM] [Info] This is the GPU trainer!!\n",
      "[LightGBM] [Info] Total Bins 9709\n",
      "[LightGBM] [Info] Number of data points in the train set: 208691, number of used features: 51\n",
      "[LightGBM] [Info] Using requested OpenCL platform 0 device 0\n",
      "[LightGBM] [Info] Using GPU Device: Tesla P100-PCIE-16GB, Vendor: NVIDIA Corporation\n",
      "[LightGBM] [Info] Compiling OpenCL Kernel with 256 bins...\n",
      "[LightGBM] [Info] GPU programs have been built\n",
      "[LightGBM] [Info] Size of histogram bin entry: 8\n",
      "[LightGBM] [Info] 43 dense feature groups (8.76 MB) transferred to GPU in 0.058829 secs. 1 sparse feature groups\n",
      "[LightGBM] [Info] [binary:BoostFromScore]: pavg=0.061359 -> initscore=-2.727697\n",
      "[LightGBM] [Info] Start training from score -2.727697\n",
      "Training until validation scores don't improve for 10 rounds\n",
      "Early stopping, best iteration is:\n",
      "[42]\ttraining's auc: 0.72228\tvalid_1's auc: 0.680728\n",
      "LightGBM AUC: 0.6807277095604388\n"
     ]
    }
   ],
   "source": [
    "lgb_train = lgb.Dataset(X_train, y_train)\n",
    "lgb_eval = lgb.Dataset(X_valid, y_valid, reference=lgb_train)\n",
    "\n",
    "params = {\n",
    "    'boosting_type': 'gbdt',\n",
    "    'objective': 'binary',\n",
    "    'metric': 'auc',\n",
    "    'is_unbalance': True,\n",
    "    'device': 'gpu',\n",
    "    'gpu_platform_id': 0,\n",
    "    'gpu_device_id': 0,\n",
    "    'early_stopping_rounds': 10\n",
    "}\n",
    "\n",
    "gbm = lgb.train(\n",
    "    params,\n",
    "    lgb_train,\n",
    "    num_boost_round=5000,\n",
    "    valid_sets=[lgb_train, lgb_eval]\n",
    ")\n",
    "\n",
    "y_pred = gbm.predict(X_valid, num_iteration=gbm.best_iteration)\n",
    "auc_score = roc_auc_score(y_valid, y_pred)\n",
    "print(f\"LightGBM AUC: {auc_score}\")"
   ]
  },
  {
   "cell_type": "code",
   "execution_count": null,
   "metadata": {},
   "outputs": [],
   "source": [
    "# Generate submission\n",
    "submission = submission_data_format1[['user_id', 'merchant_id']]\n",
    "submission['prob'] = gbm.predict(test_data, num_iteration=gbm.best_iteration)\n",
    "submission.to_csv('./submission/submission.csv', index=False)"
   ]
  }
 ],
 "metadata": {
  "kernelspec": {
   "display_name": "cs182",
   "language": "python",
   "name": "python3"
  },
  "language_info": {
   "codemirror_mode": {
    "name": "ipython",
    "version": 3
   },
   "file_extension": ".py",
   "mimetype": "text/x-python",
   "name": "python",
   "nbconvert_exporter": "python",
   "pygments_lexer": "ipython3",
   "version": "3.9.21"
  }
 },
 "nbformat": 4,
 "nbformat_minor": 2
}
